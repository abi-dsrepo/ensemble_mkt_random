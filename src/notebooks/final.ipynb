{
 "cells": [
  {
   "cell_type": "code",
   "execution_count": 23,
   "metadata": {},
   "outputs": [],
   "source": [
    "import pandas as pd\n",
    "import numpy as np\n",
    "import pandas_profiling as pp\n",
    "import scipy.stats as stats\n",
    "from sklearn.model_selection import train_test_split\n",
    "import matplotlib.pyplot as plt\n",
    "from sklearn.metrics import r2_score,mean_squared_error,make_scorer\n",
    "from sklearn.ensemble import AdaBoostClassifier\n",
    "from sklearn.ensemble import RandomForestClassifier\n",
    "from sklearn.ensemble import BaggingClassifier\n",
    "from sklearn.model_selection import cross_val_score\n",
    "from sklearn.metrics import classification_report, confusion_matrix, accuracy_score\n",
    "import numpy as np\n",
    "import matplotlib.pyplot as plt\n",
    "\n",
    "from sklearn.datasets import make_classification\n",
    "from sklearn.ensemble import ExtraTreesClassifier\n",
    "from sklearn.metrics import r2_score,mean_squared_error,make_scorer\n",
    "from sklearn.ensemble import AdaBoostClassifier\n",
    "from sklearn.ensemble import RandomForestClassifier\n",
    "from sklearn.ensemble import BaggingClassifier\n",
    "from sklearn.model_selection import cross_val_score\n",
    "from sklearn.metrics import classification_report, confusion_matrix, accuracy_score\n",
    "\n",
    "import sys\n",
    "import os\n"
   ]
  },
  {
   "source": [
    "### Loading data"
   ],
   "cell_type": "markdown",
   "metadata": {}
  },
  {
   "cell_type": "code",
   "execution_count": 28,
   "metadata": {},
   "outputs": [],
   "source": [
    "dflabel=pd.read_csv(os.path.join(os.path.dirname(os.getcwd()), \"data/machine_learning_challenge_labeled_data.csv.gz\"))\n",
    "dforders=pd.read_csv(os.path.join(os.path.dirname(os.getcwd()),\"data/machine_learning_challenge_order_data.csv.gz\"))"
   ]
  },
  {
   "cell_type": "code",
   "execution_count": 29,
   "metadata": {},
   "outputs": [
    {
     "output_type": "execute_result",
     "data": {
      "text/plain": [
       "(786600, 13)"
      ]
     },
     "metadata": {},
     "execution_count": 29
    }
   ],
   "source": [
    "dforders.shape"
   ]
  },
  {
   "cell_type": "code",
   "execution_count": 30,
   "metadata": {},
   "outputs": [
    {
     "output_type": "execute_result",
     "data": {
      "text/plain": [
       "(785571, 13)"
      ]
     },
     "metadata": {},
     "execution_count": 30
    }
   ],
   "source": [
    "dforders.drop_duplicates(keep=False,inplace=True)\n",
    "dforders.shape"
   ]
  },
  {
   "source": [
    "### Checking for nulls"
   ],
   "cell_type": "markdown",
   "metadata": {}
  },
  {
   "cell_type": "code",
   "execution_count": 44,
   "metadata": {},
   "outputs": [
    {
     "output_type": "execute_result",
     "data": {
      "text/plain": [
       "array(['customer_order_rank'], dtype=object)"
      ]
     },
     "metadata": {},
     "execution_count": 44
    }
   ],
   "source": [
    "dforders.isnull().sum()[dforders.isnull().sum() > 0].reset_index()['index'].values"
   ]
  },
  {
   "cell_type": "code",
   "execution_count": 45,
   "metadata": {},
   "outputs": [],
   "source": [
    "dforders['Isnullrank']=np.where(dforders.customer_order_rank.isnull(),1,0)\n",
    "dforders['Isnonzerovoucher']=np.where(dforders.voucher_amount>0,1,0)"
   ]
  },
  {
   "cell_type": "code",
   "execution_count": 33,
   "metadata": {},
   "outputs": [],
   "source": [
    "##time frame columns\n",
    "import calendar\n",
    "\n",
    "dforders.order_date = pd.to_datetime(dforders.order_date)\n",
    "dforders['year'] = dforders['order_date'].dt.year\n",
    "dforders['month'] = dforders.order_date.apply(lambda x: x.strftime('%Y-%m'))\n",
    "dforders['week_number'] = dforders.order_date.dt.week\n",
    "dforders['week_day'] = dforders.order_date.dt.day_name()\n",
    "#dforders['month'] = dforders.month.apply(lambda x: calendar.month_abbr[x])"
   ]
  },
  {
   "cell_type": "code",
   "execution_count": 34,
   "metadata": {},
   "outputs": [],
   "source": [
    "def day_time(x):\n",
    "    if x['order_hour'] < 8:\n",
    "        return 'night'\n",
    "    elif (x['order_hour'] >=8) & (x['order_hour'] <16):\n",
    "        return 'day'\n",
    "    elif x['order_hour'] >= 16:\n",
    "        return 'evening'\n",
    "dforders['hour_class'] = dforders.apply(day_time, axis=1)"
   ]
  },
  {
   "cell_type": "code",
   "execution_count": 35,
   "metadata": {},
   "outputs": [],
   "source": [
    "dfnew=pd.get_dummies(dforders, columns=['hour_class'])"
   ]
  },
  {
   "cell_type": "code",
   "execution_count": 36,
   "metadata": {},
   "outputs": [],
   "source": [
    "dfnew['Is2017']=np.where(dfnew['year']==2017,1,0)\n",
    "dfnew['Is2016']=np.where(dfnew['year']==2016,1,0)\n",
    "dfnew['Is2015']=np.where(dfnew['year']==2015,1,0)"
   ]
  },
  {
   "cell_type": "code",
   "execution_count": 52,
   "metadata": {},
   "outputs": [],
   "source": [
    "df1=dfnew.groupby('customer_id',as_index=False).agg(['min','max','median'])[['customer_order_rank','voucher_amount','amount_paid','delivery_fee']]"
   ]
  },
  {
   "cell_type": "code",
   "execution_count": 53,
   "metadata": {},
   "outputs": [],
   "source": [
    "df2=dfnew.groupby(['customer_id']).agg({'order_date': [np.min,np.max]})\n"
   ]
  },
  {
   "cell_type": "code",
   "execution_count": 54,
   "metadata": {},
   "outputs": [],
   "source": [
    "df3=dfnew.groupby('customer_id',as_index=False).agg(['sum'])[['customer_order_rank','Isnullrank','Is2017','Is2016','Is2015','is_failed','Isnonzerovoucher','voucher_amount','amount_paid','delivery_fee','hour_class_day','hour_class_evening','hour_class_night']]"
   ]
  },
  {
   "cell_type": "code",
   "execution_count": 55,
   "metadata": {},
   "outputs": [],
   "source": [
    "df4=dfnew.groupby('customer_id',as_index=False).agg(['nunique'])[['restaurant_id','city_id','payment_id','platform_id','transmission_id','year','week_day','month','order_date']]                           "
   ]
  },
  {
   "cell_type": "markdown",
   "metadata": {},
   "source": [
    "#### "
   ]
  },
  {
   "cell_type": "code",
   "execution_count": 56,
   "metadata": {},
   "outputs": [
    {
     "data": {
      "text/html": [
       "<div>\n",
       "<style scoped>\n",
       "    .dataframe tbody tr th:only-of-type {\n",
       "        vertical-align: middle;\n",
       "    }\n",
       "\n",
       "    .dataframe tbody tr th {\n",
       "        vertical-align: top;\n",
       "    }\n",
       "\n",
       "    .dataframe thead th {\n",
       "        text-align: right;\n",
       "    }\n",
       "</style>\n",
       "<table border=\"1\" class=\"dataframe\">\n",
       "  <thead>\n",
       "    <tr style=\"text-align: right;\">\n",
       "      <th></th>\n",
       "      <th>customer_id</th>\n",
       "      <th>totaltranscations</th>\n",
       "    </tr>\n",
       "  </thead>\n",
       "  <tbody>\n",
       "    <tr>\n",
       "      <th>0</th>\n",
       "      <td>000097eabfd9</td>\n",
       "      <td>1</td>\n",
       "    </tr>\n",
       "    <tr>\n",
       "      <th>1</th>\n",
       "      <td>0000e2c6d9be</td>\n",
       "      <td>1</td>\n",
       "    </tr>\n",
       "    <tr>\n",
       "      <th>2</th>\n",
       "      <td>000133bb597f</td>\n",
       "      <td>1</td>\n",
       "    </tr>\n",
       "    <tr>\n",
       "      <th>3</th>\n",
       "      <td>00018269939b</td>\n",
       "      <td>1</td>\n",
       "    </tr>\n",
       "    <tr>\n",
       "      <th>4</th>\n",
       "      <td>0001a00468a6</td>\n",
       "      <td>1</td>\n",
       "    </tr>\n",
       "    <tr>\n",
       "      <th>...</th>\n",
       "      <td>...</td>\n",
       "      <td>...</td>\n",
       "    </tr>\n",
       "    <tr>\n",
       "      <th>245449</th>\n",
       "      <td>fffd696eaedd</td>\n",
       "      <td>1</td>\n",
       "    </tr>\n",
       "    <tr>\n",
       "      <th>245450</th>\n",
       "      <td>fffe9d5a8d41</td>\n",
       "      <td>3</td>\n",
       "    </tr>\n",
       "    <tr>\n",
       "      <th>245451</th>\n",
       "      <td>ffff347c3cfa</td>\n",
       "      <td>2</td>\n",
       "    </tr>\n",
       "    <tr>\n",
       "      <th>245452</th>\n",
       "      <td>ffff4519b52d</td>\n",
       "      <td>1</td>\n",
       "    </tr>\n",
       "    <tr>\n",
       "      <th>245453</th>\n",
       "      <td>ffffccbfc8a4</td>\n",
       "      <td>1</td>\n",
       "    </tr>\n",
       "  </tbody>\n",
       "</table>\n",
       "<p>245454 rows × 2 columns</p>\n",
       "</div>"
      ],
      "text/plain": [
       "         customer_id  totaltranscations\n",
       "0       000097eabfd9                  1\n",
       "1       0000e2c6d9be                  1\n",
       "2       000133bb597f                  1\n",
       "3       00018269939b                  1\n",
       "4       0001a00468a6                  1\n",
       "...              ...                ...\n",
       "245449  fffd696eaedd                  1\n",
       "245450  fffe9d5a8d41                  3\n",
       "245451  ffff347c3cfa                  2\n",
       "245452  ffff4519b52d                  1\n",
       "245453  ffffccbfc8a4                  1\n",
       "\n",
       "[245454 rows x 2 columns]"
      ]
     },
     "execution_count": 56,
     "metadata": {},
     "output_type": "execute_result"
    }
   ],
   "source": [
    "df5=dfnew.groupby(['customer_id']).size().reset_index() \n",
    "df5.columns=['customer_id','totaltranscations']\n"
   ]
  },
  {
   "cell_type": "code",
   "execution_count": 57,
   "metadata": {},
   "outputs": [
    {
     "name": "stderr",
     "output_type": "stream",
     "text": [
      "c:\\users\\abinaya.jayakumar\\appdata\\local\\programs\\python\\python37\\lib\\site-packages\\pandas\\core\\reshape\\merge.py:643: UserWarning: merging between different levels can give an unintended result (2 levels on the left,1 on the right)\n",
      "  warnings.warn(msg, UserWarning)\n"
     ]
    },
    {
     "data": {
      "text/html": [
       "<div>\n",
       "<style scoped>\n",
       "    .dataframe tbody tr th:only-of-type {\n",
       "        vertical-align: middle;\n",
       "    }\n",
       "\n",
       "    .dataframe tbody tr th {\n",
       "        vertical-align: top;\n",
       "    }\n",
       "\n",
       "    .dataframe thead th {\n",
       "        text-align: right;\n",
       "    }\n",
       "</style>\n",
       "<table border=\"1\" class=\"dataframe\">\n",
       "  <thead>\n",
       "    <tr style=\"text-align: right;\">\n",
       "      <th></th>\n",
       "      <th>customer_id</th>\n",
       "      <th>(customer_order_rank, min)</th>\n",
       "      <th>(customer_order_rank, max)</th>\n",
       "      <th>(customer_order_rank, median)</th>\n",
       "      <th>(voucher_amount, min)</th>\n",
       "      <th>(voucher_amount, max)</th>\n",
       "      <th>(voucher_amount, median)</th>\n",
       "      <th>(amount_paid, min)</th>\n",
       "      <th>(amount_paid, max)</th>\n",
       "      <th>(amount_paid, median)</th>\n",
       "      <th>...</th>\n",
       "      <th>(city_id, nunique)</th>\n",
       "      <th>(payment_id, nunique)</th>\n",
       "      <th>(platform_id, nunique)</th>\n",
       "      <th>(transmission_id, nunique)</th>\n",
       "      <th>(year, nunique)</th>\n",
       "      <th>(week_day, nunique)</th>\n",
       "      <th>(month, nunique)</th>\n",
       "      <th>(order_date, nunique)</th>\n",
       "      <th>totaltranscations</th>\n",
       "      <th>is_returning_customer</th>\n",
       "    </tr>\n",
       "  </thead>\n",
       "  <tbody>\n",
       "    <tr>\n",
       "      <th>0</th>\n",
       "      <td>000097eabfd9</td>\n",
       "      <td>1.0</td>\n",
       "      <td>1.0</td>\n",
       "      <td>1.0</td>\n",
       "      <td>0.0</td>\n",
       "      <td>0.0</td>\n",
       "      <td>0.0</td>\n",
       "      <td>11.46960</td>\n",
       "      <td>11.46960</td>\n",
       "      <td>11.46960</td>\n",
       "      <td>...</td>\n",
       "      <td>1</td>\n",
       "      <td>1</td>\n",
       "      <td>1</td>\n",
       "      <td>1</td>\n",
       "      <td>1</td>\n",
       "      <td>1</td>\n",
       "      <td>1</td>\n",
       "      <td>1</td>\n",
       "      <td>1</td>\n",
       "      <td>0</td>\n",
       "    </tr>\n",
       "    <tr>\n",
       "      <th>1</th>\n",
       "      <td>0000e2c6d9be</td>\n",
       "      <td>1.0</td>\n",
       "      <td>1.0</td>\n",
       "      <td>1.0</td>\n",
       "      <td>0.0</td>\n",
       "      <td>0.0</td>\n",
       "      <td>0.0</td>\n",
       "      <td>9.55800</td>\n",
       "      <td>9.55800</td>\n",
       "      <td>9.55800</td>\n",
       "      <td>...</td>\n",
       "      <td>1</td>\n",
       "      <td>1</td>\n",
       "      <td>1</td>\n",
       "      <td>1</td>\n",
       "      <td>1</td>\n",
       "      <td>1</td>\n",
       "      <td>1</td>\n",
       "      <td>1</td>\n",
       "      <td>1</td>\n",
       "      <td>0</td>\n",
       "    </tr>\n",
       "    <tr>\n",
       "      <th>2</th>\n",
       "      <td>000133bb597f</td>\n",
       "      <td>1.0</td>\n",
       "      <td>1.0</td>\n",
       "      <td>1.0</td>\n",
       "      <td>0.0</td>\n",
       "      <td>0.0</td>\n",
       "      <td>0.0</td>\n",
       "      <td>5.93658</td>\n",
       "      <td>5.93658</td>\n",
       "      <td>5.93658</td>\n",
       "      <td>...</td>\n",
       "      <td>1</td>\n",
       "      <td>1</td>\n",
       "      <td>1</td>\n",
       "      <td>1</td>\n",
       "      <td>1</td>\n",
       "      <td>1</td>\n",
       "      <td>1</td>\n",
       "      <td>1</td>\n",
       "      <td>1</td>\n",
       "      <td>1</td>\n",
       "    </tr>\n",
       "    <tr>\n",
       "      <th>3</th>\n",
       "      <td>00018269939b</td>\n",
       "      <td>1.0</td>\n",
       "      <td>1.0</td>\n",
       "      <td>1.0</td>\n",
       "      <td>0.0</td>\n",
       "      <td>0.0</td>\n",
       "      <td>0.0</td>\n",
       "      <td>9.82350</td>\n",
       "      <td>9.82350</td>\n",
       "      <td>9.82350</td>\n",
       "      <td>...</td>\n",
       "      <td>1</td>\n",
       "      <td>1</td>\n",
       "      <td>1</td>\n",
       "      <td>1</td>\n",
       "      <td>1</td>\n",
       "      <td>1</td>\n",
       "      <td>1</td>\n",
       "      <td>1</td>\n",
       "      <td>1</td>\n",
       "      <td>0</td>\n",
       "    </tr>\n",
       "    <tr>\n",
       "      <th>4</th>\n",
       "      <td>0001a00468a6</td>\n",
       "      <td>1.0</td>\n",
       "      <td>1.0</td>\n",
       "      <td>1.0</td>\n",
       "      <td>0.0</td>\n",
       "      <td>0.0</td>\n",
       "      <td>0.0</td>\n",
       "      <td>5.15070</td>\n",
       "      <td>5.15070</td>\n",
       "      <td>5.15070</td>\n",
       "      <td>...</td>\n",
       "      <td>1</td>\n",
       "      <td>1</td>\n",
       "      <td>1</td>\n",
       "      <td>1</td>\n",
       "      <td>1</td>\n",
       "      <td>1</td>\n",
       "      <td>1</td>\n",
       "      <td>1</td>\n",
       "      <td>1</td>\n",
       "      <td>0</td>\n",
       "    </tr>\n",
       "  </tbody>\n",
       "</table>\n",
       "<p>5 rows × 39 columns</p>\n",
       "</div>"
      ],
      "text/plain": [
       "    customer_id  (customer_order_rank, min)  (customer_order_rank, max)  \\\n",
       "0  000097eabfd9                         1.0                         1.0   \n",
       "1  0000e2c6d9be                         1.0                         1.0   \n",
       "2  000133bb597f                         1.0                         1.0   \n",
       "3  00018269939b                         1.0                         1.0   \n",
       "4  0001a00468a6                         1.0                         1.0   \n",
       "\n",
       "   (customer_order_rank, median)  (voucher_amount, min)  \\\n",
       "0                            1.0                    0.0   \n",
       "1                            1.0                    0.0   \n",
       "2                            1.0                    0.0   \n",
       "3                            1.0                    0.0   \n",
       "4                            1.0                    0.0   \n",
       "\n",
       "   (voucher_amount, max)  (voucher_amount, median)  (amount_paid, min)  \\\n",
       "0                    0.0                       0.0            11.46960   \n",
       "1                    0.0                       0.0             9.55800   \n",
       "2                    0.0                       0.0             5.93658   \n",
       "3                    0.0                       0.0             9.82350   \n",
       "4                    0.0                       0.0             5.15070   \n",
       "\n",
       "   (amount_paid, max)  (amount_paid, median)  ...  (city_id, nunique)  \\\n",
       "0            11.46960               11.46960  ...                   1   \n",
       "1             9.55800                9.55800  ...                   1   \n",
       "2             5.93658                5.93658  ...                   1   \n",
       "3             9.82350                9.82350  ...                   1   \n",
       "4             5.15070                5.15070  ...                   1   \n",
       "\n",
       "   (payment_id, nunique)  (platform_id, nunique) (transmission_id, nunique)  \\\n",
       "0                      1                       1                          1   \n",
       "1                      1                       1                          1   \n",
       "2                      1                       1                          1   \n",
       "3                      1                       1                          1   \n",
       "4                      1                       1                          1   \n",
       "\n",
       "  (year, nunique)  (week_day, nunique)  (month, nunique)  \\\n",
       "0               1                    1                 1   \n",
       "1               1                    1                 1   \n",
       "2               1                    1                 1   \n",
       "3               1                    1                 1   \n",
       "4               1                    1                 1   \n",
       "\n",
       "   (order_date, nunique)  totaltranscations  is_returning_customer  \n",
       "0                      1                  1                      0  \n",
       "1                      1                  1                      0  \n",
       "2                      1                  1                      1  \n",
       "3                      1                  1                      0  \n",
       "4                      1                  1                      0  \n",
       "\n",
       "[5 rows x 39 columns]"
      ]
     },
     "execution_count": 57,
     "metadata": {},
     "output_type": "execute_result"
    }
   ],
   "source": [
    "dforderssummary=df1.merge(df2,on='customer_id').merge(df3,on='customer_id').merge(df4,on='customer_id').merge(df5,on='customer_id').merge(dflabel,on='customer_id')\n",
    "dforderssummary.head()"
   ]
  },
  {
   "cell_type": "code",
   "execution_count": 58,
   "metadata": {},
   "outputs": [
    {
     "data": {
      "text/plain": [
       "Index(['customer_id', 'customer_order_rank_min', 'customer_order_rank_max',\n",
       "       'customer_order_rank_median', 'voucher_amount_min',\n",
       "       'voucher_amount_max', 'voucher_amount_median', 'amount_paid_min',\n",
       "       'amount_paid_max', 'amount_paid_median', 'delivery_fee_min',\n",
       "       'delivery_fee_max', 'delivery_fee_median', 'order_date_amin',\n",
       "       'order_date_amax', 'customer_order_rank_sum', 'Isnullrank_sum',\n",
       "       'Is2017_sum', 'Is2016_sum', 'Is2015_sum', 'is_failed_sum',\n",
       "       'Isnonzerovoucher_sum', 'voucher_amount_sum', 'amount_paid_sum',\n",
       "       'delivery_fee_sum', 'hour_class_day_sum', 'hour_class_evening_sum',\n",
       "       'hour_class_night_sum', 'restaurant_id_nunique', 'city_id_nunique',\n",
       "       'payment_id_nunique', 'platform_id_nunique', 'transmission_id_nunique',\n",
       "       'year_nunique', 'week_day_nunique', 'month_nunique',\n",
       "       'order_date_nunique', 'totaltranscations', 'is_returning_customer'],\n",
       "      dtype='object')"
      ]
     },
     "execution_count": 58,
     "metadata": {},
     "output_type": "execute_result"
    }
   ],
   "source": [
    "cols = dforderssummary.iloc[:,1:-2].columns\n",
    "newcols = []\n",
    "for x in cols: \n",
    "    newcols.append('_'.join(list(x)))\n",
    "newcols\n",
    "newdf = dforderssummary.copy(True)\n",
    "for i,j in zip(dforderssummary.iloc[:, 1:-2], newcols):\n",
    "    newdf.rename(columns={i : j}, inplace=True)\n",
    "newdf.columns"
   ]
  },
  {
   "cell_type": "code",
   "execution_count": 59,
   "metadata": {},
   "outputs": [
    {
     "data": {
      "text/plain": [
       "0          0.0\n",
       "1          0.0\n",
       "2          0.0\n",
       "3          0.0\n",
       "4          0.0\n",
       "          ... \n",
       "245449     0.0\n",
       "245450    61.0\n",
       "245451    29.0\n",
       "245452     0.0\n",
       "245453     0.0\n",
       "Name: daydiff, Length: 245454, dtype: float64"
      ]
     },
     "execution_count": 59,
     "metadata": {},
     "output_type": "execute_result"
    }
   ],
   "source": [
    "newdf['daydiff']=(newdf['order_date_amax']-newdf['order_date_amin'])/np.timedelta64(1, 'D')\n",
    "newdf['daydiff']"
   ]
  },
  {
   "cell_type": "code",
   "execution_count": 60,
   "metadata": {},
   "outputs": [],
   "source": [
    "newdf['samedaytransaction']=np.where((newdf.order_date_nunique == 1) & (newdf.totaltranscations>1),1,0)\n",
    "newdf['moretrans']=np.where(newdf.order_date_nunique < newdf.totaltranscations ,1,0)"
   ]
  },
  {
   "cell_type": "code",
   "execution_count": 61,
   "metadata": {},
   "outputs": [],
   "source": [
    "newdf['customer_order_rank_min'] = newdf['customer_order_rank_min'].replace(np.nan, 0)\n",
    "newdf['customer_order_rank_max'] = newdf['customer_order_rank_max'].replace(np.nan, 0)\n",
    "newdf['customer_order_rank_median'] = newdf['customer_order_rank_median'].replace(np.nan, 0)"
   ]
  },
  {
   "cell_type": "code",
   "execution_count": 105,
   "metadata": {},
   "outputs": [],
   "source": [
    "newdf['order_date_amax'] = pd.to_datetime(newdf.order_date_amax)\n",
    "maxdate = max(newdf.order_date_amax)\n",
    "mindate = min(newdf.order_date_amax)\n",
    "newdf['recenencyscore']= 1- ((maxdate - newdf['order_date_amax']).dt.days / int((maxdate-mindate).total_seconds()/(60*60*24)))"
   ]
  },
  {
   "cell_type": "code",
   "execution_count": 106,
   "metadata": {},
   "outputs": [],
   "source": [
    "newdf['Is2017binary']=np.where(newdf['Is2017_sum']>0,1,0)\n",
    "newdf['Is2016binary']=np.where(newdf['Is2016_sum']>0,1,0)\n",
    "newdf['Is2015binary']=np.where(newdf['Is2015_sum']>0,1,0)\n"
   ]
  },
  {
   "cell_type": "code",
   "execution_count": 107,
   "metadata": {},
   "outputs": [],
   "source": [
    "cols=['Is2015binary', 'Is2016binary', 'Is2017binary']\n",
    "newdf['yearinfo']=newdf[cols].dot(newdf[cols].columns + ';').str.rstrip(';')"
   ]
  },
  {
   "cell_type": "code",
   "execution_count": 108,
   "metadata": {},
   "outputs": [],
   "source": [
    "newdf['totaltransbinary']=np.where(newdf['totaltranscations']>1,1,0)"
   ]
  },
  {
   "cell_type": "code",
   "execution_count": 109,
   "metadata": {},
   "outputs": [],
   "source": [
    "newdf.order_date_amax = pd.to_datetime(newdf.order_date_amax)\n",
    "newdf['yearmax'] = newdf['order_date_amax'].dt.year"
   ]
  },
  {
   "cell_type": "code",
   "execution_count": 110,
   "metadata": {},
   "outputs": [],
   "source": [
    "newdf.order_date_amin = pd.to_datetime(newdf.order_date_amin)\n",
    "newdf['yearmin'] = newdf['order_date_amin'].dt.year"
   ]
  },
  {
   "cell_type": "code",
   "execution_count": null,
   "metadata": {},
   "outputs": [],
   "source": [
    "##etl completed"
   ]
  },
  {
   "cell_type": "code",
   "execution_count": 111,
   "metadata": {},
   "outputs": [],
   "source": [
    "df_2017=newdf[newdf.yearmax==2017]\n",
    "df_2016=newdf[newdf.yearmax==2016]\n",
    "df_2015=newdf[newdf.yearmax==2015]\n",
    "##include other records taht do not follow under this category"
   ]
  },
  {
   "cell_type": "code",
   "execution_count": null,
   "metadata": {},
   "outputs": [],
   "source": [
    "##cluster by year completed"
   ]
  },
  {
   "cell_type": "code",
   "execution_count": null,
   "metadata": {},
   "outputs": [],
   "source": [
    "##build model for 2016"
   ]
  },
  {
   "cell_type": "code",
   "execution_count": 112,
   "metadata": {},
   "outputs": [
    {
     "data": {
      "text/plain": [
       "Index(['customer_id', 'customer_order_rank_min', 'customer_order_rank_max',\n",
       "       'customer_order_rank_median', 'voucher_amount_min',\n",
       "       'voucher_amount_max', 'voucher_amount_median', 'amount_paid_min',\n",
       "       'amount_paid_max', 'amount_paid_median', 'delivery_fee_min',\n",
       "       'delivery_fee_max', 'delivery_fee_median', 'order_date_amin',\n",
       "       'order_date_amax', 'customer_order_rank_sum', 'Isnullrank_sum',\n",
       "       'Is2017_sum', 'Is2016_sum', 'Is2015_sum', 'is_failed_sum',\n",
       "       'Isnonzerovoucher_sum', 'voucher_amount_sum', 'amount_paid_sum',\n",
       "       'delivery_fee_sum', 'hour_class_day_sum', 'hour_class_evening_sum',\n",
       "       'hour_class_night_sum', 'restaurant_id_nunique', 'city_id_nunique',\n",
       "       'payment_id_nunique', 'platform_id_nunique', 'transmission_id_nunique',\n",
       "       'year_nunique', 'week_day_nunique', 'month_nunique',\n",
       "       'order_date_nunique', 'totaltranscations', 'is_returning_customer',\n",
       "       'daydiff', 'samedaytransaction', 'moretrans', 'Is2017binary',\n",
       "       'Is2016binary', 'Is2015binary', 'totaltransbinary', 'yearmax',\n",
       "       'yearmin', 'yearinfo', 'recenencyscore'],\n",
       "      dtype='object')"
      ]
     },
     "execution_count": 112,
     "metadata": {},
     "output_type": "execute_result"
    }
   ],
   "source": [
    "df=df_2016\n",
    "df_2016.columns"
   ]
  },
  {
   "cell_type": "code",
   "execution_count": 113,
   "metadata": {},
   "outputs": [
    {
     "data": {
      "text/plain": [
       "['daydiff',\n",
       " 'customer_order_rank_sum',\n",
       " 'amount_paid_sum',\n",
       " 'amount_paid_max',\n",
       " 'amount_paid_median',\n",
       " 'amount_paid_min',\n",
       " 'totaltranscations',\n",
       " 'customer_order_rank_max',\n",
       " 'order_date_nunique',\n",
       " 'hour_class_evening_sum',\n",
       " 'Is2016_sum',\n",
       " 'Is2015_sum',\n",
       " 'customer_order_rank_median',\n",
       " 'month_nunique',\n",
       " 'delivery_fee_sum',\n",
       " 'voucher_amount_sum',\n",
       " 'restaurant_id_nunique',\n",
       " 'hour_class_day_sum',\n",
       " 'week_day_nunique',\n",
       " 'Isnonzerovoucher_sum',\n",
       " 'voucher_amount_max',\n",
       " 'transmission_id_nunique',\n",
       " 'voucher_amount_median',\n",
       " 'recenencyscore']"
      ]
     },
     "execution_count": 113,
     "metadata": {},
     "output_type": "execute_result"
    }
   ],
   "source": [
    "vardf = df[[i for i in df.columns if i not in ['is_returning_customer', 'recenencyscore']]].var().sort_values(ascending=False)\n",
    "select = vardf.shape[0]//2\n",
    "final_cols = list(vardf.iloc[:23].index) + ['recenencyscore']\n",
    "final_cols"
   ]
  },
  {
   "cell_type": "code",
   "execution_count": 114,
   "metadata": {},
   "outputs": [],
   "source": [
    "train_df = df[final_cols]\n",
    "y=df['is_returning_customer']\n",
    "X=train_df.copy(True)\n",
    "X_train, X_test, y_train, y_test = train_test_split(X, y, stratify=y, test_size=0.3)"
   ]
  },
  {
   "cell_type": "code",
   "execution_count": 101,
   "metadata": {},
   "outputs": [
    {
     "data": {
      "text/plain": [
       "Index(['customer_id', 'customer_order_rank_min', 'customer_order_rank_max',\n",
       "       'customer_order_rank_median', 'voucher_amount_min',\n",
       "       'voucher_amount_max', 'voucher_amount_median', 'amount_paid_min',\n",
       "       'amount_paid_max', 'amount_paid_median', 'delivery_fee_min',\n",
       "       'delivery_fee_max', 'delivery_fee_median', 'order_date_amin',\n",
       "       'order_date_amax', 'customer_order_rank_sum', 'Isnullrank_sum',\n",
       "       'Is2017_sum', 'Is2016_sum', 'Is2015_sum', 'is_failed_sum',\n",
       "       'Isnonzerovoucher_sum', 'voucher_amount_sum', 'amount_paid_sum',\n",
       "       'delivery_fee_sum', 'hour_class_day_sum', 'hour_class_evening_sum',\n",
       "       'hour_class_night_sum', 'restaurant_id_nunique', 'city_id_nunique',\n",
       "       'payment_id_nunique', 'platform_id_nunique', 'transmission_id_nunique',\n",
       "       'year_nunique', 'week_day_nunique', 'month_nunique',\n",
       "       'order_date_nunique', 'totaltranscations', 'is_returning_customer',\n",
       "       'daydiff', 'samedaytransaction', 'moretrans', 'Is2017binary',\n",
       "       'Is2016binary', 'Is2015binary', 'totaltransbinary', 'yearmax',\n",
       "       'yearmin', 'yearinfo'],\n",
       "      dtype='object')"
      ]
     },
     "execution_count": 101,
     "metadata": {},
     "output_type": "execute_result"
    }
   ],
   "source": [
    "df.columns"
   ]
  },
  {
   "cell_type": "code",
   "execution_count": null,
   "metadata": {},
   "outputs": [],
   "source": []
  },
  {
   "cell_type": "code",
   "execution_count": 97,
   "metadata": {},
   "outputs": [
    {
     "ename": "KeyError",
     "evalue": "\"['recenencyscore'] not in index\"",
     "output_type": "error",
     "traceback": [
      "\u001b[1;31m---------------------------------------------------------------------------\u001b[0m",
      "\u001b[1;31mKeyError\u001b[0m                                  Traceback (most recent call last)",
      "\u001b[1;32m<ipython-input-97-ac258db30a51>\u001b[0m in \u001b[0;36m<module>\u001b[1;34m\u001b[0m\n\u001b[1;32m----> 1\u001b[1;33m \u001b[0mdf\u001b[0m\u001b[1;33m[\u001b[0m\u001b[0mfinal_cols\u001b[0m\u001b[1;33m]\u001b[0m\u001b[1;33m\u001b[0m\u001b[1;33m\u001b[0m\u001b[0m\n\u001b[0m",
      "\u001b[1;32mc:\\users\\abinaya.jayakumar\\appdata\\local\\programs\\python\\python37\\lib\\site-packages\\pandas\\core\\frame.py\u001b[0m in \u001b[0;36m__getitem__\u001b[1;34m(self, key)\u001b[0m\n\u001b[0;32m   2910\u001b[0m             \u001b[1;32mif\u001b[0m \u001b[0mis_iterator\u001b[0m\u001b[1;33m(\u001b[0m\u001b[0mkey\u001b[0m\u001b[1;33m)\u001b[0m\u001b[1;33m:\u001b[0m\u001b[1;33m\u001b[0m\u001b[1;33m\u001b[0m\u001b[0m\n\u001b[0;32m   2911\u001b[0m                 \u001b[0mkey\u001b[0m \u001b[1;33m=\u001b[0m \u001b[0mlist\u001b[0m\u001b[1;33m(\u001b[0m\u001b[0mkey\u001b[0m\u001b[1;33m)\u001b[0m\u001b[1;33m\u001b[0m\u001b[1;33m\u001b[0m\u001b[0m\n\u001b[1;32m-> 2912\u001b[1;33m             \u001b[0mindexer\u001b[0m \u001b[1;33m=\u001b[0m \u001b[0mself\u001b[0m\u001b[1;33m.\u001b[0m\u001b[0mloc\u001b[0m\u001b[1;33m.\u001b[0m\u001b[0m_get_listlike_indexer\u001b[0m\u001b[1;33m(\u001b[0m\u001b[0mkey\u001b[0m\u001b[1;33m,\u001b[0m \u001b[0maxis\u001b[0m\u001b[1;33m=\u001b[0m\u001b[1;36m1\u001b[0m\u001b[1;33m,\u001b[0m \u001b[0mraise_missing\u001b[0m\u001b[1;33m=\u001b[0m\u001b[1;32mTrue\u001b[0m\u001b[1;33m)\u001b[0m\u001b[1;33m[\u001b[0m\u001b[1;36m1\u001b[0m\u001b[1;33m]\u001b[0m\u001b[1;33m\u001b[0m\u001b[1;33m\u001b[0m\u001b[0m\n\u001b[0m\u001b[0;32m   2913\u001b[0m \u001b[1;33m\u001b[0m\u001b[0m\n\u001b[0;32m   2914\u001b[0m         \u001b[1;31m# take() does not accept boolean indexers\u001b[0m\u001b[1;33m\u001b[0m\u001b[1;33m\u001b[0m\u001b[1;33m\u001b[0m\u001b[0m\n",
      "\u001b[1;32mc:\\users\\abinaya.jayakumar\\appdata\\local\\programs\\python\\python37\\lib\\site-packages\\pandas\\core\\indexing.py\u001b[0m in \u001b[0;36m_get_listlike_indexer\u001b[1;34m(self, key, axis, raise_missing)\u001b[0m\n\u001b[0;32m   1252\u001b[0m             \u001b[0mkeyarr\u001b[0m\u001b[1;33m,\u001b[0m \u001b[0mindexer\u001b[0m\u001b[1;33m,\u001b[0m \u001b[0mnew_indexer\u001b[0m \u001b[1;33m=\u001b[0m \u001b[0max\u001b[0m\u001b[1;33m.\u001b[0m\u001b[0m_reindex_non_unique\u001b[0m\u001b[1;33m(\u001b[0m\u001b[0mkeyarr\u001b[0m\u001b[1;33m)\u001b[0m\u001b[1;33m\u001b[0m\u001b[1;33m\u001b[0m\u001b[0m\n\u001b[0;32m   1253\u001b[0m \u001b[1;33m\u001b[0m\u001b[0m\n\u001b[1;32m-> 1254\u001b[1;33m         \u001b[0mself\u001b[0m\u001b[1;33m.\u001b[0m\u001b[0m_validate_read_indexer\u001b[0m\u001b[1;33m(\u001b[0m\u001b[0mkeyarr\u001b[0m\u001b[1;33m,\u001b[0m \u001b[0mindexer\u001b[0m\u001b[1;33m,\u001b[0m \u001b[0maxis\u001b[0m\u001b[1;33m,\u001b[0m \u001b[0mraise_missing\u001b[0m\u001b[1;33m=\u001b[0m\u001b[0mraise_missing\u001b[0m\u001b[1;33m)\u001b[0m\u001b[1;33m\u001b[0m\u001b[1;33m\u001b[0m\u001b[0m\n\u001b[0m\u001b[0;32m   1255\u001b[0m         \u001b[1;32mreturn\u001b[0m \u001b[0mkeyarr\u001b[0m\u001b[1;33m,\u001b[0m \u001b[0mindexer\u001b[0m\u001b[1;33m\u001b[0m\u001b[1;33m\u001b[0m\u001b[0m\n\u001b[0;32m   1256\u001b[0m \u001b[1;33m\u001b[0m\u001b[0m\n",
      "\u001b[1;32mc:\\users\\abinaya.jayakumar\\appdata\\local\\programs\\python\\python37\\lib\\site-packages\\pandas\\core\\indexing.py\u001b[0m in \u001b[0;36m_validate_read_indexer\u001b[1;34m(self, key, indexer, axis, raise_missing)\u001b[0m\n\u001b[0;32m   1302\u001b[0m             \u001b[1;32mif\u001b[0m \u001b[0mraise_missing\u001b[0m\u001b[1;33m:\u001b[0m\u001b[1;33m\u001b[0m\u001b[1;33m\u001b[0m\u001b[0m\n\u001b[0;32m   1303\u001b[0m                 \u001b[0mnot_found\u001b[0m \u001b[1;33m=\u001b[0m \u001b[0mlist\u001b[0m\u001b[1;33m(\u001b[0m\u001b[0mset\u001b[0m\u001b[1;33m(\u001b[0m\u001b[0mkey\u001b[0m\u001b[1;33m)\u001b[0m \u001b[1;33m-\u001b[0m \u001b[0mset\u001b[0m\u001b[1;33m(\u001b[0m\u001b[0max\u001b[0m\u001b[1;33m)\u001b[0m\u001b[1;33m)\u001b[0m\u001b[1;33m\u001b[0m\u001b[1;33m\u001b[0m\u001b[0m\n\u001b[1;32m-> 1304\u001b[1;33m                 \u001b[1;32mraise\u001b[0m \u001b[0mKeyError\u001b[0m\u001b[1;33m(\u001b[0m\u001b[1;34mf\"{not_found} not in index\"\u001b[0m\u001b[1;33m)\u001b[0m\u001b[1;33m\u001b[0m\u001b[1;33m\u001b[0m\u001b[0m\n\u001b[0m\u001b[0;32m   1305\u001b[0m \u001b[1;33m\u001b[0m\u001b[0m\n\u001b[0;32m   1306\u001b[0m             \u001b[1;31m# we skip the warning on Categorical\u001b[0m\u001b[1;33m\u001b[0m\u001b[1;33m\u001b[0m\u001b[1;33m\u001b[0m\u001b[0m\n",
      "\u001b[1;31mKeyError\u001b[0m: \"['recenencyscore'] not in index\""
     ]
    }
   ],
   "source": [
    " df[final_cols]"
   ]
  },
  {
   "cell_type": "code",
   "execution_count": null,
   "metadata": {},
   "outputs": [],
   "source": []
  }
 ],
 "metadata": {
  "kernelspec": {
   "name": "python3",
   "display_name": "Python 3.7.3 64-bit ('dh_abi')",
   "metadata": {
    "interpreter": {
     "hash": "acabfadd2b6be6b4d4a8aac0e6ab5814d45fc6ce488df7d77056330f1b093cf1"
    }
   }
  },
  "language_info": {
   "codemirror_mode": {
    "name": "ipython",
    "version": 3
   },
   "file_extension": ".py",
   "mimetype": "text/x-python",
   "name": "python",
   "nbconvert_exporter": "python",
   "pygments_lexer": "ipython3",
   "version": "3.7.3-final"
  }
 },
 "nbformat": 4,
 "nbformat_minor": 4
}